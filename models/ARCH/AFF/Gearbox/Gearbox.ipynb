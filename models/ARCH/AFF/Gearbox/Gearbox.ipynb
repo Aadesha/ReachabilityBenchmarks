{
 "cells": [
  {
   "cell_type": "markdown",
   "metadata": {},
   "source": [
    "**Contents**\n",
    "\n",
    "- [Introduction](#Introduction)\n",
    "- [Time-varying input](#Time-varying-input)\n",
    "    - [Dense time reachability plots](#dense-reach-plots-TV)\n",
    "    - [Check mode (dense time)](#check-dense-TV)\n",
    "    - [Check mode (discrete time)](#check-discrete-TV)\n",
    "        - [Experimental settings](#Experimental-settings)\n",
    "- [Constant input](#Constant-input)\n",
    "    - [Dense time reachability plots](#dense-reach-plots-CONST)\n",
    "    - [Check mode (dense time)](#check-dense-CONST)\n",
    "    - [Check mode (discrete time)](#check-discrete-CONST)"
   ]
  },
  {
   "cell_type": "markdown",
   "metadata": {},
   "source": [
    "## Introduction"
   ]
  },
  {
   "cell_type": "code",
   "execution_count": 1,
   "metadata": {},
   "outputs": [],
   "source": [
    "using SX, Reachability, Plots"
   ]
  },
  {
   "cell_type": "code",
   "execution_count": 2,
   "metadata": {},
   "outputs": [
    {
     "name": "stdout",
     "output_type": "stream",
     "text": [
      "\u001b[35m[warn | Reachability]: field note in location 1 is ignored\n",
      "\u001b[39m\u001b[35m[warn | Reachability]: field note in location 2 is ignored\n",
      "\u001b[39m\u001b[35m[warn | Reachability]: field label in transition 1 → 1 is ignored\n",
      "\u001b[39m\u001b[35m[warn | Reachability]: field label in transition 1 → 1 is ignored\n",
      "\u001b[39m\u001b[35m[warn | Reachability]: field label in transition 1 → 2 is ignored\n",
      "\u001b[39m\u001b[35m[warn | Reachability]: field label in transition 1 → 2 is ignored\n",
      "\u001b[39m\u001b[35m[warn | Reachability]: field label in transition 1 → 2 is ignored\n",
      "\u001b[39m\u001b[35m[warn | Reachability]: field label in transition 1 → 2 is ignored\n",
      "\u001b[39m"
     ]
    }
   ],
   "source": [
    "file = \"SX_Mesh_manual.xml\"\n",
    "H = readsxmodel(file, ST=ConstrainedLinearControlContinuousSystem);"
   ]
  },
  {
   "cell_type": "code",
   "execution_count": 3,
   "metadata": {},
   "outputs": [
    {
     "data": {
      "text/plain": [
       "DataStructures.OrderedDict{Symbol,Dict{String,Any}} with 6 entries:\n",
       "  :t  => Dict{String,Any}(Pair{String,Any}(\"local\", false),Pair{String,Any}(\"co…\n",
       "  :vx => Dict{String,Any}(Pair{String,Any}(\"local\", false),Pair{String,Any}(\"co…\n",
       "  :vy => Dict{String,Any}(Pair{String,Any}(\"local\", false),Pair{String,Any}(\"co…\n",
       "  :px => Dict{String,Any}(Pair{String,Any}(\"local\", false),Pair{String,Any}(\"co…\n",
       "  :py => Dict{String,Any}(Pair{String,Any}(\"local\", false),Pair{String,Any}(\"co…\n",
       "  :II => Dict{String,Any}(Pair{String,Any}(\"local\", false),Pair{String,Any}(\"co…"
      ]
     },
     "execution_count": 3,
     "metadata": {},
     "output_type": "execute_result"
    }
   ],
   "source": [
    "H.ext[:variables]"
   ]
  },
  {
   "cell_type": "code",
   "execution_count": null,
   "metadata": {},
   "outputs": [],
   "source": []
  }
 ],
 "metadata": {
  "kernelspec": {
   "display_name": "Julia 0.6.1",
   "language": "julia",
   "name": "julia-0.6"
  },
  "language_info": {
   "file_extension": ".jl",
   "mimetype": "application/julia",
   "name": "julia",
   "version": "0.6.1"
  }
 },
 "nbformat": 4,
 "nbformat_minor": 2
}
