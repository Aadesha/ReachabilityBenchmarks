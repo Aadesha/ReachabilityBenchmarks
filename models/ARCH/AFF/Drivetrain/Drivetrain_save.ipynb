{
 "cells": [
  {
   "cell_type": "markdown",
   "metadata": {},
   "source": [
    "**Contents**\n",
    "\n",
    "- [Introduction](#Introduction)"
   ]
  },
  {
   "cell_type": "markdown",
   "metadata": {},
   "source": [
    "## Introduction"
   ]
  },
  {
   "cell_type": "markdown",
   "metadata": {},
   "source": [
    "This benchmark is taken from [1]. The model files were taken from the attachments to [2].\n",
    "\n",
    "There are two instances:\n",
    "\n",
    "1. theta1_100percent refers to the initial states as given in the TACAS 2017 paper above.\n",
    "\n",
    "2. theta1_5percent has the initial states with the same center, but shrunken in diameter to 5%.\n",
    "\n",
    "[1] *M. Althoff and B. H. Krogh. Avoiding geometric intersection operations in reachability analysis of hybrid systems. In Hybrid Systems: Computation and Control, pages 45-54, 2012*\n",
    "\n",
    "[2] *\"Rigorous Simulation-Based Analysis of Linear Hybrid Systems\", S. Bak, P. Duggirala, 23rd International Conference on Tools and Algorithms for the Construction and Analysis of Systems (TACAS 2017).*"
   ]
  },
  {
   "cell_type": "code",
   "execution_count": 1,
   "metadata": {},
   "outputs": [
    {
     "name": "stdout",
     "output_type": "stream",
     "text": [
      "\u001b[32m[info | Reachability]: Precompiling module MAT.\n",
      "\u001b[39m"
     ]
    }
   ],
   "source": [
    "using SX, Reachability, MAT, Plots"
   ]
  },
  {
   "cell_type": "code",
   "execution_count": 2,
   "metadata": {},
   "outputs": [
    {
     "name": "stdout",
     "output_type": "stream",
     "text": [
      "\u001b[35m[warn | Reachability]: field labelposition in transition 4 → 1 is ignored\n",
      "\u001b[39m\u001b[35m[warn | Reachability]: field middlepoint in transition 4 → 1 is ignored\n",
      "\u001b[39m\u001b[35m[warn | Reachability]: field labelposition in transition 1 → 2 is ignored\n",
      "\u001b[39m\u001b[35m[warn | Reachability]: field middlepoint in transition 1 → 2 is ignored\n",
      "\u001b[39m\u001b[35m[warn | Reachability]: field labelposition in transition 2 → 3 is ignored\n",
      "\u001b[39m\u001b[35m[warn | Reachability]: field middlepoint in transition 2 → 3 is ignored\n",
      "\u001b[39m\u001b[35m[warn | Reachability]: field labelposition in transition 2 → 1 is ignored\n",
      "\u001b[39m\u001b[35m[warn | Reachability]: field middlepoint in transition 2 → 1 is ignored\n",
      "\u001b[39m\u001b[35m[warn | Reachability]: field labelposition in transition 3 → 2 is ignored\n",
      "\u001b[39m\u001b[35m[warn | Reachability]: field middlepoint in transition 3 → 2 is ignored\n",
      "\u001b[39m"
     ]
    },
    {
     "ename": "LoadError",
     "evalue": "\u001b[91mguard t >= 0.2 in transition 1 contains a combination of state variables and input variables, and conversion to a system of type MathematicalSystems.ConstrainedLinearControlContinuousSystem is not possible\u001b[39m",
     "output_type": "error",
     "traceback": [
      "\u001b[91mguard t >= 0.2 in transition 1 contains a combination of state variables and input variables, and conversion to a system of type MathematicalSystems.ConstrainedLinearControlContinuousSystem is not possible\u001b[39m",
      "",
      "Stacktrace:",
      " [1] \u001b[1m#linearHS#25\u001b[22m\u001b[22m\u001b[1m(\u001b[22m\u001b[22m::Type{T} where T, ::Type{T} where T, ::Type{T} where T, ::Array{Any,1}, ::Function, ::Dict{String,Any}\u001b[1m)\u001b[22m\u001b[22m at \u001b[1m/Users/forets/.julia/v0.6/SX/src/symbolic.jl:227\u001b[22m\u001b[22m",
      " [2] \u001b[1m(::SX.#kw##linearHS)\u001b[22m\u001b[22m\u001b[1m(\u001b[22m\u001b[22m::Array{Any,1}, ::SX.#linearHS, ::Dict{String,Any}\u001b[1m)\u001b[22m\u001b[22m at \u001b[1m./<missing>:0\u001b[22m\u001b[22m",
      " [3] \u001b[1m#readsxmodel#1\u001b[22m\u001b[22m\u001b[1m(\u001b[22m\u001b[22m::Bool, ::Type{T} where T, ::Type{T} where T, ::Array{Any,1}, ::Function, ::String\u001b[1m)\u001b[22m\u001b[22m at \u001b[1m/Users/forets/.julia/v0.6/SX/src/io.jl:149\u001b[22m\u001b[22m",
      " [4] \u001b[1m(::SX.#kw##readsxmodel)\u001b[22m\u001b[22m\u001b[1m(\u001b[22m\u001b[22m::Array{Any,1}, ::SX.#readsxmodel, ::String\u001b[1m)\u001b[22m\u001b[22m at \u001b[1m./<missing>:0\u001b[22m\u001b[22m",
      " [5] \u001b[1minclude_string\u001b[22m\u001b[22m\u001b[1m(\u001b[22m\u001b[22m::String, ::String\u001b[1m)\u001b[22m\u001b[22m at \u001b[1m./loading.jl:522\u001b[22m\u001b[22m",
      " [6] \u001b[1mexecute_request\u001b[22m\u001b[22m\u001b[1m(\u001b[22m\u001b[22m::ZMQ.Socket, ::IJulia.Msg\u001b[1m)\u001b[22m\u001b[22m at \u001b[1m/Users/forets/.julia/v0.6/IJulia/src/execute_request.jl:193\u001b[22m\u001b[22m",
      " [7] \u001b[1m(::Compat.#inner#6{Array{Any,1},IJulia.#execute_request,Tuple{ZMQ.Socket,IJulia.Msg}})\u001b[22m\u001b[22m\u001b[1m(\u001b[22m\u001b[22m\u001b[1m)\u001b[22m\u001b[22m at \u001b[1m/Users/forets/.julia/v0.6/Compat/src/Compat.jl:189\u001b[22m\u001b[22m",
      " [8] \u001b[1meventloop\u001b[22m\u001b[22m\u001b[1m(\u001b[22m\u001b[22m::ZMQ.Socket\u001b[1m)\u001b[22m\u001b[22m at \u001b[1m/Users/forets/.julia/v0.6/IJulia/src/eventloop.jl:8\u001b[22m\u001b[22m",
      " [9] \u001b[1m(::IJulia.##13#16)\u001b[22m\u001b[22m\u001b[1m(\u001b[22m\u001b[22m\u001b[1m)\u001b[22m\u001b[22m at \u001b[1m./task.jl:335\u001b[22m\u001b[22m"
     ]
    }
   ],
   "source": [
    "file = \"drivetrain_theta1_5percent_flat_manually.xml\"\n",
    "H = readsxmodel(file, ST=ConstrainedLinearControlContinuousSystem);"
   ]
  },
  {
   "cell_type": "code",
   "execution_count": 4,
   "metadata": {},
   "outputs": [
    {
     "name": "stdout",
     "output_type": "stream",
     "text": [
      "\u001b[35m[warn | Reachability]: field labelposition in transition 4 → 1 is ignored\n",
      "\u001b[39m\u001b[35m[warn | Reachability]: field middlepoint in transition 4 → 1 is ignored\n",
      "\u001b[39m\u001b[35m[warn | Reachability]: field labelposition in transition 1 → 2 is ignored\n",
      "\u001b[39m\u001b[35m[warn | Reachability]: field middlepoint in transition 1 → 2 is ignored\n",
      "\u001b[39m\u001b[35m[warn | Reachability]: field labelposition in transition 2 → 3 is ignored\n",
      "\u001b[39m\u001b[35m[warn | Reachability]: field middlepoint in transition 2 → 3 is ignored\n",
      "\u001b[39m\u001b[35m[warn | Reachability]: field labelposition in transition 2 → 1 is ignored\n",
      "\u001b[39m\u001b[35m[warn | Reachability]: field middlepoint in transition 2 → 1 is ignored\n",
      "\u001b[39m\u001b[35m[warn | Reachability]: field labelposition in transition 3 → 2 is ignored\n",
      "\u001b[39m\u001b[35m[warn | Reachability]: field middlepoint in transition 3 → 2 is ignored\n",
      "\u001b[39m"
     ]
    }
   ],
   "source": [
    "H = readsxmodel(file, raw_dict=true);"
   ]
  },
  {
   "cell_type": "code",
   "execution_count": 17,
   "metadata": {},
   "outputs": [
    {
     "data": {
      "text/plain": [
       "10-element Array{Expr,1}:\n",
       " :(x1' = (1.0 / 12.0) * x7 - x9)                                                                                                                                             \n",
       " :(x2' = ((0.5 * (12.0x4 - x7) + 0.5 * (12.0x3 - 12.0 * (x1 + x8)) + 0.5 * (12.0 * -5.0 - (1.0 / 0.3) * ((x2 - (1.0 / 12.0) * 10000.0 * (x1 - -0.03)) - 0.0x7))) - x2) / 0.1)\n",
       " :(x3' = x4)                                                                                                                                                                 \n",
       " :(x4' = -5.0)                                                                                                                                                               \n",
       " :(x5' = x6)                                                                                                                                                                 \n",
       " :(x6' = (1.0 / 140.0) * (100000.0 * (x8 - x5) - 5.6x6))                                                                                                                     \n",
       " :(x7' = (1.0 / 0.3) * ((x2 - (1.0 / 12.0) * 10000.0 * (x1 - -0.03)) - 0.0x7))                                                                                               \n",
       " :(x8' = x9)                                                                                                                                                                 \n",
       " :(x9' = 0.01 * ((10000.0 * (x1 - -0.03) - 100000.0 * (x8 - x5)) - 1.0x9))                                                                                                   \n",
       " :(t' = 1.0)                                                                                                                                                                 "
      ]
     },
     "execution_count": 17,
     "metadata": {},
     "output_type": "execute_result"
    }
   ],
   "source": [
    "H[\"flows\"][4]"
   ]
  },
  {
   "cell_type": "code",
   "execution_count": 19,
   "metadata": {},
   "outputs": [
    {
     "data": {
      "text/plain": [
       "10-element Array{Expr,1}:\n",
       " :(x1' = (1.0 / 12.0) * x7 - x9)                                                                                                                                            \n",
       " :(x2' = ((0.5 * (12.0x4 - x7) + 0.5 * (12.0x3 - 12.0 * (x1 + x8)) + 0.5 * (12.0 * 5.0 - (1.0 / 0.3) * ((x2 - (1.0 / 12.0) * 10000.0 * (x1 - -0.03)) - 0.0x7))) - x2) / 0.1)\n",
       " :(x3' = x4)                                                                                                                                                                \n",
       " :(x4' = 5.0)                                                                                                                                                               \n",
       " :(x5' = x6)                                                                                                                                                                \n",
       " :(x6' = (1.0 / 140.0) * (100000.0 * (x8 - x5) - 5.6x6))                                                                                                                    \n",
       " :(x7' = (1.0 / 0.3) * ((x2 - (1.0 / 12.0) * 10000.0 * (x1 - -0.03)) - 0.0x7))                                                                                              \n",
       " :(x8' = x9)                                                                                                                                                                \n",
       " :(x9' = 0.01 * ((10000.0 * (x1 - -0.03) - 100000.0 * (x8 - x5)) - 1.0x9))                                                                                                  \n",
       " :(t' = 1.0)                                                                                                                                                                "
      ]
     },
     "execution_count": 19,
     "metadata": {},
     "output_type": "execute_result"
    }
   ],
   "source": [
    "H[\"flows\"][1]"
   ]
  },
  {
   "cell_type": "code",
   "execution_count": null,
   "metadata": {},
   "outputs": [],
   "source": [
    "?ConstrainedLinearControlContinuousSystem"
   ]
  },
  {
   "cell_type": "code",
   "execution_count": null,
   "metadata": {},
   "outputs": [],
   "source": [
    "# Drive train example\n",
    "# ============================\n",
    "\n",
    "using HybridSystems, MathematicalSystems, LazySets, Plots\n",
    "import SX:is_halfspace, is_hyperplane, convert, parse_sxmath\n",
    "\n",
    "\n",
    "x1 = parse_sxmath(\"x1 - -0.0488 == 0.0005600000000000001 * (x4 - 20.0)\")\n",
    "x2 = parse_sxmath(\"x2 - -15.67 == 0.46699999999999997 * (x4 - 20.0)\")\n",
    "x3 = parse_sxmath(\"x3 == 0.0\")\n",
    "x4 = parse_sxmath(\"x4 <= 40.0\")\n",
    "x5 = parse_sxmath(\"x5 == 0.0\")\n",
    "x6 = parse_sxmath(\"x6 - 20.0 == 1.0 * (x4 - 20.0)\")\n",
    "x7 = parse_sxmath(\"x7 - 240.0 == 12.0 * (x4 - 20.0)\")\n",
    "x8 = parse_sxmath(\"x8 - -0.0019199999999999998 == 0.00005999999999999998 * (x4 - 20.0)\")\n",
    "x9 = parse_sxmath(\"x9 - 20.0 == 1.0 * (x4 - 20.0)\")\n",
    "t = parse_sxmath(\"t == 0.0\")\n",
    "\n",
    "expr_p = parse_sxmath(\"x1 - -0.0488 == 0.0005600000000000001 * (x4 - 20.0) & x2 - -15.67 == 0.46699999999999997 * (x4 - 20.0) & x3 == 0.0 & x5 == 0.0 & x6 - 20.0 == 1.0 * (x4 - 20.0) & x7 - 240.0 == 12.0 * (x4 - 20.0) & x8 - -0.0019199999999999998 == 0.00005999999999999998 * (x4 - 20.0) & x9 - 20.0 == 1.0 * (x4 - 20.0) & 20.0 <= x4 & x4 <= 40.0 & t == 0.0\")\n",
    "expr = [x1, x2, x3, x4,x5,x6,x7,x8,x9,t]\n",
    "x0sets = []\n",
    "vars = Basic[:x1, :x2, :x3, :x4, :x5, :x6, :x7, :x8, :x9, :t]\n",
    "for expr_i in expr_p\n",
    "    if is_halfspace(expr_i)\n",
    "        push!(x0sets, convert(HalfSpace, expr_i, vars=vars))\n",
    "    elseif is_hyperplane(expr_i)\n",
    "        push!(x0sets, convert(Hyperplane, expr_i, vars=vars))\n",
    "    end\n",
    "end\n",
    "\n",
    "\n",
    "AFFINE_SYSTEM = ConstrainedLinearControlContinuousSystem\n",
    "HS = readsxmodel(\"models/ARCH2018/Drivetrain/drivetrain_theta1_5percent_flat_manually.xml\", raw_dict=true)\n",
    "# initial condition in mode 1\n",
    "\n",
    "\n",
    "# calculate reachable states up to time T\n",
    "prob = InitialValueProblem(HS, x0sets)\n",
    "input_options = Options(:mode=>\"reach\")\n",
    "\n",
    "problem_options = Options(:vars=>[1,3,10], :T=>10.0, :δ=>0.005, :plot_vars=>[1, 3], :verbosity=>1);\n",
    "options_input = merge(problem_options, input_options)\n",
    "using Polyhedra\n",
    "sol = solve(HS, options_input);\n",
    "\n",
    "plot(sol, indices=1:2:length(sol.Xk))\n"
   ]
  }
 ],
 "metadata": {
  "kernelspec": {
   "display_name": "Julia 0.6.4",
   "language": "julia",
   "name": "julia-0.6"
  },
  "language_info": {
   "file_extension": ".jl",
   "mimetype": "application/julia",
   "name": "julia",
   "version": "0.6.4"
  }
 },
 "nbformat": 4,
 "nbformat_minor": 2
}
