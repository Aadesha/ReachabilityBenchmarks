{
 "cells": [
  {
   "cell_type": "code",
   "execution_count": 1,
   "metadata": {},
   "outputs": [],
   "source": [
    "using SX, Reachability\n",
    "using Plots"
   ]
  },
  {
   "cell_type": "markdown",
   "metadata": {},
   "source": [
    "Open and parse the SX model:"
   ]
  },
  {
   "cell_type": "code",
   "execution_count": 3,
   "metadata": {},
   "outputs": [
    {
     "name": "stdout",
     "output_type": "stream",
     "text": [
      "\u001b[35m[warn | Reachability]: field note in location 1 is ignored\n",
      "\u001b[39m\u001b[35m[warn | Reachability]: field note in location 2 is ignored\n",
      "\u001b[39m\u001b[35m[warn | Reachability]: field label in transition 1 → 2 is ignored\n",
      "\u001b[39m\u001b[35m[warn | Reachability]: field labelposition in transition 1 → 2 is ignored\n",
      "\u001b[39m\u001b[35m[warn | Reachability]: field label in transition 2 → 1 is ignored\n",
      "\u001b[39m\u001b[35m[warn | Reachability]: field labelposition in transition 2 → 1 is ignored\n",
      "\u001b[39m\u001b[35m[warn | Reachability]: field middlepoint in transition 2 → 1 is ignored\n",
      "\u001b[39m\u001b[35m[warn | Reachability]: field note in location 1 is ignored\n",
      "\u001b[39m\u001b[35m[warn | Reachability]: field note in location 2 is ignored\n",
      "\u001b[39m\u001b[35m[warn | Reachability]: field label in transition 1 → 2 is ignored\n",
      "\u001b[39m\u001b[35m[warn | Reachability]: field labelposition in transition 1 → 2 is ignored\n",
      "\u001b[39m\u001b[35m[warn | Reachability]: field label in transition 2 → 1 is ignored\n",
      "\u001b[39m\u001b[35m[warn | Reachability]: field labelposition in transition 2 → 1 is ignored\n",
      "\u001b[39m\u001b[35m[warn | Reachability]: field middlepoint in transition 2 → 1 is ignored\n",
      "\u001b[39m"
     ]
    }
   ],
   "source": [
    "file = \"platoonComp_flat_revised.xml\"\n",
    "\n",
    "HDict = readsxmodel(file, raw_dict=true);\n",
    "H = readsxmodel(file, ST=ConstrainedLinearControlContinuousSystem);"
   ]
  },
  {
   "cell_type": "code",
   "execution_count": 6,
   "metadata": {},
   "outputs": [
    {
     "data": {
      "text/plain": [
       "DataStructures.OrderedDict{Symbol,Dict{String,Any}} with 11 entries:\n",
       "  :t   => Dict{String,Any}(Pair{String,Any}(\"local\", false),Pair{String,Any}(\"c…\n",
       "  :xe1 => Dict{String,Any}(Pair{String,Any}(\"local\", false),Pair{String,Any}(\"c…\n",
       "  :v1  => Dict{String,Any}(Pair{String,Any}(\"local\", false),Pair{String,Any}(\"c…\n",
       "  :a1  => Dict{String,Any}(Pair{String,Any}(\"local\", false),Pair{String,Any}(\"c…\n",
       "  :xe2 => Dict{String,Any}(Pair{String,Any}(\"local\", false),Pair{String,Any}(\"c…\n",
       "  :v2  => Dict{String,Any}(Pair{String,Any}(\"local\", false),Pair{String,Any}(\"c…\n",
       "  :a2  => Dict{String,Any}(Pair{String,Any}(\"local\", false),Pair{String,Any}(\"c…\n",
       "  :xe3 => Dict{String,Any}(Pair{String,Any}(\"local\", false),Pair{String,Any}(\"c…\n",
       "  :v3  => Dict{String,Any}(Pair{String,Any}(\"local\", false),Pair{String,Any}(\"c…\n",
       "  :a3  => Dict{String,Any}(Pair{String,Any}(\"local\", false),Pair{String,Any}(\"c…\n",
       "  :aL  => Dict{String,Any}(Pair{String,Any}(\"local\", false),Pair{String,Any}(\"c…"
      ]
     },
     "execution_count": 6,
     "metadata": {},
     "output_type": "execute_result"
    }
   ],
   "source": [
    "HDict[\"variables\"]"
   ]
  },
  {
   "cell_type": "code",
   "execution_count": 5,
   "metadata": {},
   "outputs": [
    {
     "data": {
      "text/plain": [
       "10×10 Array{Float64,2}:\n",
       " 0.0  0.0       0.0       0.0        …   0.0       0.0        0.0      \n",
       " 0.0  0.0       1.0       0.0            0.0       0.0        0.0      \n",
       " 0.0  0.0       0.0      -1.0            0.0       0.0        0.0      \n",
       " 0.0  1.60499   4.86799  -3.57539       -0.194199  0.362599  -0.0945999\n",
       " 0.0  0.0       0.0       0.0            0.0       0.0        0.0      \n",
       " 0.0  0.0       0.0       1.0        …   0.0       0.0        0.0      \n",
       " 0.0  0.871799  3.81399  -0.0753999     -0.594999  0.129399  -0.0795999\n",
       " 0.0  0.0       0.0       0.0            0.0       1.0        0.0      \n",
       " 0.0  0.0       0.0       0.0            0.0       0.0       -1.0      \n",
       " 0.0  0.713199  3.57299  -0.0963999      1.27259   3.07199   -3.13559  "
      ]
     },
     "execution_count": 5,
     "metadata": {},
     "output_type": "execute_result"
    }
   ],
   "source": [
    "H.modes[1].A"
   ]
  },
  {
   "cell_type": "code",
   "execution_count": null,
   "metadata": {},
   "outputs": [],
   "source": [
    "H.resetmaps[1].A"
   ]
  },
  {
   "cell_type": "code",
   "execution_count": null,
   "metadata": {},
   "outputs": [],
   "source": [
    "H.resetmaps[1].B"
   ]
  },
  {
   "cell_type": "code",
   "execution_count": null,
   "metadata": {},
   "outputs": [],
   "source": [
    "H.modes[1].X"
   ]
  },
  {
   "cell_type": "code",
   "execution_count": null,
   "metadata": {},
   "outputs": [],
   "source": [
    "H.modes[1].B"
   ]
  },
  {
   "cell_type": "code",
   "execution_count": null,
   "metadata": {},
   "outputs": [],
   "source": [
    "H.modes[1].A[4, :]"
   ]
  },
  {
   "cell_type": "code",
   "execution_count": null,
   "metadata": {},
   "outputs": [],
   "source": [
    "H.ext[:variables]"
   ]
  },
  {
   "cell_type": "code",
   "execution_count": null,
   "metadata": {},
   "outputs": [],
   "source": [
    "A = H.modes[1].A[2:end, 2:end]\n",
    "\n",
    "# S = ConstrainedLinearControlContinuousSystem(H.modes[1].A[1:6, 1:6], eye(6), nothing, ConstantInput(H.modes[1].B[1:6] * H.modes[1].U[1]))"
   ]
  },
  {
   "cell_type": "code",
   "execution_count": null,
   "metadata": {},
   "outputs": [],
   "source": [
    "HDict = readsxmodel(file, raw_dict=true)"
   ]
  },
  {
   "cell_type": "code",
   "execution_count": null,
   "metadata": {},
   "outputs": [],
   "source": [
    "N = Float64\n",
    "variables = HDict[\"variables\"]\n",
    "invariants = HDict[\"invariants\"]\n",
    "flows = HDict[\"flows\"]\n",
    "assignments = HDict[\"assignments\"]\n",
    "guards = HDict[\"guards\"]\n",
    "state_variables = Vector{Basic}()\n",
    "input_variables = Vector{Basic}()\n",
    "\n",
    "for vi in keys(variables)\n",
    "   if variables[vi][\"controlled\"]\n",
    "       push!(state_variables, convert(Basic, vi))\n",
    "   else\n",
    "       push!(input_variables, convert(Basic, vi))\n",
    "   end\n",
    "end\n",
    "m = length(input_variables)"
   ]
  },
  {
   "cell_type": "code",
   "execution_count": null,
   "metadata": {},
   "outputs": [],
   "source": [
    "invariants = HDict[\"invariants\"]"
   ]
  },
  {
   "cell_type": "code",
   "execution_count": null,
   "metadata": {},
   "outputs": [],
   "source": [
    "invi = invariants[1][2]"
   ]
  },
  {
   "cell_type": "code",
   "execution_count": null,
   "metadata": {},
   "outputs": [],
   "source": [
    "invi = :(-aL <= 9)"
   ]
  },
  {
   "cell_type": "code",
   "execution_count": null,
   "metadata": {},
   "outputs": [],
   "source": [
    "expr1.args"
   ]
  },
  {
   "cell_type": "code",
   "execution_count": null,
   "metadata": {},
   "outputs": [],
   "source": [
    "LHS = convert(Basic, invi.args[2])\n",
    "RHS = convert(Basic, invi.args[3])\n",
    "LHS, RHS"
   ]
  },
  {
   "cell_type": "code",
   "execution_count": null,
   "metadata": {},
   "outputs": [],
   "source": [
    "b = convert(N, RHS)"
   ]
  },
  {
   "cell_type": "code",
   "execution_count": null,
   "metadata": {},
   "outputs": [],
   "source": []
  },
  {
   "cell_type": "code",
   "execution_count": null,
   "metadata": {},
   "outputs": [],
   "source": [
    "U = Vector{LazySet{N}}() # FIXME : use an intersection array?\n",
    "# should be a vector of vectors (one for each location)\n",
    "\n",
    "# vector of state constraints\n",
    "X = Vector{LazySet{N}}() # FIXME : use an intersection array?\n",
    "\n",
    "# find if this is a state constraint or an input constraint\n",
    "if all(si in state_variables for si in free_symbols(LHS))\n",
    "    a = diff.(LHS, state_variables)\n",
    "    a = convert(Vector{N}, a)\n",
    "    push!(X, HalfSpace(a, b))\n",
    "elseif all(si in input_variables for si in free_symbols(LHS))\n",
    "    a = diff.(LHS, input_variables)\n",
    "    a = convert(Vector{N}, a)\n",
    "    push!(U, HalfSpace(a, b))\n",
    "else\n",
    "    error(\"the invariant $invi is not in the specified format\")\n",
    "end"
   ]
  },
  {
   "cell_type": "code",
   "execution_count": null,
   "metadata": {},
   "outputs": [],
   "source": []
  },
  {
   "cell_type": "code",
   "execution_count": null,
   "metadata": {},
   "outputs": [],
   "source": []
  },
  {
   "cell_type": "code",
   "execution_count": null,
   "metadata": {},
   "outputs": [],
   "source": []
  },
  {
   "cell_type": "code",
   "execution_count": null,
   "metadata": {},
   "outputs": [],
   "source": [
    "H = readsxmodel(file, ST=ConstrainedLinearControlContinuousSystem)"
   ]
  },
  {
   "cell_type": "code",
   "execution_count": null,
   "metadata": {},
   "outputs": [],
   "source": []
  },
  {
   "cell_type": "code",
   "execution_count": null,
   "metadata": {},
   "outputs": [],
   "source": []
  },
  {
   "cell_type": "markdown",
   "metadata": {},
   "source": [
    "Check that the state variables are those betweeen 1 and 6:"
   ]
  },
  {
   "cell_type": "code",
   "execution_count": null,
   "metadata": {},
   "outputs": [],
   "source": [
    "keys(H.ext[:variables])"
   ]
  },
  {
   "cell_type": "markdown",
   "metadata": {},
   "source": [
    "Build the reachability problem, as an initial value problem with uncertain initial states and inputs:"
   ]
  },
  {
   "cell_type": "code",
   "execution_count": null,
   "metadata": {},
   "outputs": [],
   "source": [
    "S = ConstrainedLinearControlContinuousSystem(H.modes[1].A[1:6, 1:6], eye(6), nothing, ConstantInput(H.modes[1].B[1:6] * H.modes[1].U[1]))\n",
    "\n",
    "initially = \" x1 >= 0.0060145 & x1 <= 0.0115005 & x2 >= -0.0009624 & x2 <= 0.0025689 & x3 >= 0.0177578 & x3 <= 0.0257479 & x4 >= -0.0047553 & x4 <= -0.0001524 & x5 >= 0.0177717 & x5 <= 0.0371327 & x6 >= -0.0122932 & x6 <= -0.0046144 & y1 >= -0.0008518 & y1 <= 0.0001322 & u1 >= 0.8000000 & u1 <= 1.0000000 & t==0 & stoptime == 20.00\"\n",
    "f = i -> SX.parse_sxmath(initially)[i].args[3]\n",
    "X0 = Hyperrectangle(low=[f(i) for i in 1:2:12], high=[f(i) for i in 2:2:12])\n",
    "\n",
    "problem = InitialValueProblem(S, X0);"
   ]
  },
  {
   "cell_type": "markdown",
   "metadata": {},
   "source": [
    "Solve the problem in verbose mode:"
   ]
  },
  {
   "cell_type": "code",
   "execution_count": null,
   "metadata": {},
   "outputs": [],
   "source": [
    "sol = solve(problem, :T=>5.0, :δ=>0.01, :vars=>[6], :verbosity=>1);"
   ]
  },
  {
   "cell_type": "code",
   "execution_count": null,
   "metadata": {},
   "outputs": [],
   "source": [
    "plot(sol, alpha=0.2)"
   ]
  },
  {
   "cell_type": "markdown",
   "metadata": {},
   "source": [
    "Now compute the output $y_1$:"
   ]
  },
  {
   "cell_type": "code",
   "execution_count": null,
   "metadata": {},
   "outputs": [],
   "source": [
    "vars = collect(keys(H.ext[:variables]))[1:6]\n",
    "expr = SX.parse_sxmath(\"y1 == 0.064531*x2 - 0.0061322*x1 - 0.00069603*x3 - 0.062226*x4 - 0.0035048*x5 + 0.047228*x6\")\n",
    "Y1 = convert(Vector{Float64}, diff.(convert(Basic, expr[1].args[2]), vars))\n",
    "Y1 = sparse(reshape(Y1, (1, 6)))\n",
    "\n",
    "# (first input in plot_vars measn time; second input is ignored if projection matrix is passed)\n",
    "sol = solve(problem, :T=>5.0, :δ=>0.01, :plot_vars=>[0, 1], :vars=>1:6, :verbosity=>1, :projection_matrix=>Y1);"
   ]
  },
  {
   "cell_type": "code",
   "execution_count": null,
   "metadata": {},
   "outputs": [],
   "source": [
    "plot(sol, alpha=0.2, xlabel=\"t\", ylabel=\"y1\")"
   ]
  },
  {
   "cell_type": "code",
   "execution_count": null,
   "metadata": {},
   "outputs": [],
   "source": [
    "function reach_hybrid(As, Ts, init, δ, μ, T, max_order, must_semantics)\n",
    "    # initialize queue with initial mode and states at time t=0\n",
    "    queue = [(init[1], init[2], 0.)]\n",
    "\n",
    "    res = Tuple{LazySet, Int}[]\n",
    "    while !isempty(queue)\n",
    "        init, loc, t = pop!(queue)\n",
    "        println(\"currently in location $loc at time $t\")\n",
    "        R = reach_continuous(As[loc], init, δ, μ, T-t, max_order)\n",
    "        found_transition = false\n",
    "        for i in 1:length(R)-1\n",
    "            S = R[i]\n",
    "            push!(res, (S, loc))\n",
    "            for (guard, tgt_loc) in Ts[loc]\n",
    "                if !is_intersection_empty(S, guard)\n",
    "                    new_t = t + δ * i\n",
    "                    push!(queue, (S, tgt_loc, new_t))\n",
    "                    found_transition = true\n",
    "                    println(\"transition $loc -> $tgt_loc at time $new_t\")\n",
    "                end\n",
    "            end\n",
    "            if must_semantics && found_transition\n",
    "                break\n",
    "            end\n",
    "        end\n",
    "        if !must_semantics || !found_transition && length(R) > 0\n",
    "            push!(res, (R[end], loc))\n",
    "        end\n",
    "    end\n",
    "    return res\n",
    "end"
   ]
  }
 ],
 "metadata": {
  "kernelspec": {
   "display_name": "Julia 0.6.1",
   "language": "julia",
   "name": "julia-0.6"
  },
  "language_info": {
   "file_extension": ".jl",
   "mimetype": "application/julia",
   "name": "julia",
   "version": "0.6.1"
  }
 },
 "nbformat": 4,
 "nbformat_minor": 2
}
