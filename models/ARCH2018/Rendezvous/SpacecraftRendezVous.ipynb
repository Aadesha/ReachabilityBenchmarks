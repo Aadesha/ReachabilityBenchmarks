{
 "cells": [
  {
   "cell_type": "code",
   "execution_count": null,
   "metadata": {},
   "outputs": [],
   "source": [
    "using SX"
   ]
  },
  {
   "cell_type": "code",
   "execution_count": null,
   "metadata": {},
   "outputs": [],
   "source": [
    "file = \"ARCH17_Attachment_1/4D/model_passive_4d.xml\""
   ]
  },
  {
   "cell_type": "code",
   "execution_count": null,
   "metadata": {},
   "outputs": [],
   "source": [
    "readsxmodel(file)"
   ]
  },
  {
   "cell_type": "code",
   "execution_count": null,
   "metadata": {},
   "outputs": [],
   "source": [
    "import SX.parse_sxmath"
   ]
  },
  {
   "cell_type": "code",
   "execution_count": null,
   "metadata": {},
   "outputs": [],
   "source": [
    "parse_sxmath(\"((t <= 125) & ( y>= -100))\")"
   ]
  },
  {
   "cell_type": "code",
   "execution_count": null,
   "metadata": {},
   "outputs": [],
   "source": [
    "parse_sxmath(\"((x == 0) & (v <= 0))\")"
   ]
  },
  {
   "cell_type": "code",
   "execution_count": null,
   "metadata": {},
   "outputs": [],
   "source": [
    "?replace"
   ]
  },
  {
   "cell_type": "code",
   "execution_count": null,
   "metadata": {},
   "outputs": [],
   "source": [
    "function parse_sxmath(s; assignment=false)\n",
    "    s = replace(s, \"(\", \"\") # delete parentheses\n",
    "    s = replace(s, \")\", \"\") # delete parentheses\n",
    "\n",
    "    expr = split(replace(s, \"&&\", \"&\"), \"&\")\n",
    "    expr = strip.(expr)\n",
    "    if assignment\n",
    "        expr = replace.(expr, \":=\", \"=\")\n",
    "    end\n",
    "    expr = replace.(expr, \"==\", \"=\")\n",
    "    return parse.(expr)\n",
    "end"
   ]
  },
  {
   "cell_type": "code",
   "execution_count": null,
   "metadata": {},
   "outputs": [],
   "source": []
  },
  {
   "cell_type": "code",
   "execution_count": 1,
   "metadata": {},
   "outputs": [
    {
     "data": {
      "text/plain": [
       "\"t<=125 & (y>=-100)\""
      ]
     },
     "execution_count": 1,
     "metadata": {},
     "output_type": "execute_result"
    }
   ],
   "source": [
    "s = \"t<=125 & (y>=-100)\""
   ]
  },
  {
   "cell_type": "code",
   "execution_count": 3,
   "metadata": {},
   "outputs": [
    {
     "data": {
      "text/plain": [
       "2-element Array{SubString{String},1}:\n",
       " \"t<=125\"   \n",
       " \"(y>=-100)\""
      ]
     },
     "execution_count": 3,
     "metadata": {},
     "output_type": "execute_result"
    }
   ],
   "source": [
    "expr = split(replace(s, \"&&\", \"&\"), \"&\")\n",
    "expr = strip.(expr)"
   ]
  },
  {
   "cell_type": "code",
   "execution_count": 8,
   "metadata": {},
   "outputs": [
    {
     "name": "stdout",
     "output_type": "stream",
     "text": [
      "search: \u001b[1mm\u001b[22m\u001b[1ma\u001b[22m\u001b[1mt\u001b[22m\u001b[1mc\u001b[22m\u001b[1mh\u001b[22m \u001b[1mm\u001b[22m\u001b[1ma\u001b[22m\u001b[1mt\u001b[22m\u001b[1mc\u001b[22m\u001b[1mh\u001b[22mall is\u001b[1mm\u001b[22m\u001b[1ma\u001b[22m\u001b[1mt\u001b[22m\u001b[1mc\u001b[22m\u001b[1mh\u001b[22m each\u001b[1mm\u001b[22m\u001b[1ma\u001b[22m\u001b[1mt\u001b[22m\u001b[1mc\u001b[22m\u001b[1mh\u001b[22m Regex\u001b[1mM\u001b[22m\u001b[1ma\u001b[22m\u001b[1mt\u001b[22m\u001b[1mc\u001b[22m\u001b[1mh\u001b[22m re\u001b[1mm\u001b[22motec\u001b[1ma\u001b[22mll_fe\u001b[1mt\u001b[22m\u001b[1mc\u001b[22m\u001b[1mh\u001b[22m\n",
      "\n"
     ]
    },
    {
     "data": {
      "text/markdown": [
       "```\n",
       "match(r::Regex, s::AbstractString[, idx::Integer[, addopts]])\n",
       "```\n",
       "\n",
       "Search for the first match of the regular expression `r` in `s` and return a `RegexMatch` object containing the match, or nothing if the match failed. The matching substring can be retrieved by accessing `m.match` and the captured sequences can be retrieved by accessing `m.captures` The optional `idx` argument specifies an index at which to start the search.\n"
      ],
      "text/plain": [
       "```\n",
       "match(r::Regex, s::AbstractString[, idx::Integer[, addopts]])\n",
       "```\n",
       "\n",
       "Search for the first match of the regular expression `r` in `s` and return a `RegexMatch` object containing the match, or nothing if the match failed. The matching substring can be retrieved by accessing `m.match` and the captured sequences can be retrieved by accessing `m.captures` The optional `idx` argument specifies an index at which to start the search.\n"
      ]
     },
     "execution_count": 8,
     "metadata": {},
     "output_type": "execute_result"
    }
   ],
   "source": [
    "match"
   ]
  },
  {
   "cell_type": "code",
   "execution_count": null,
   "metadata": {},
   "outputs": [],
   "source": []
  },
  {
   "cell_type": "code",
   "execution_count": null,
   "metadata": {},
   "outputs": [],
   "source": [
    "function parse_sxmath(s; assignment=false)\n",
    "    s = replace(s, \"(\", \"\") # FIXME delete parentheses after separating &&\n",
    "    s = replace(s, \")\", \"\") # FIXME delete parentheses after separating &&\n",
    "\n",
    "    expr = split(replace(s, \"&&\", \"&\"), \"&\")\n",
    "    expr = strip.(expr)\n",
    "    if assignment\n",
    "        expr = replace.(expr, \":=\", \"=\")\n",
    "    end\n",
    "    expr = replace.(expr, \"==\", \"=\")\n",
    "    return parse.(expr)\n",
    "end"
   ]
  }
 ],
 "metadata": {
  "kernelspec": {
   "display_name": "Julia 0.6.1",
   "language": "julia",
   "name": "julia-0.6"
  },
  "language_info": {
   "file_extension": ".jl",
   "mimetype": "application/julia",
   "name": "julia",
   "version": "0.6.1"
  }
 },
 "nbformat": 4,
 "nbformat_minor": 2
}
