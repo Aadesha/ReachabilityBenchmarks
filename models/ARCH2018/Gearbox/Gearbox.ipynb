{
 "cells": [
  {
   "cell_type": "markdown",
   "metadata": {},
   "source": [
    "**Contents**\n",
    "\n",
    "- [Introduction](#Introduction)\n",
    "- [Time-varying input](#Time-varying-input)\n",
    "    - [Dense time reachability plots](#dense-reach-plots-TV)\n",
    "    - [Check mode (dense time)](#check-dense-TV)\n",
    "    - [Check mode (discrete time)](#check-discrete-TV)\n",
    "        - [Experimental settings](#Experimental-settings)\n",
    "- [Constant input](#Constant-input)\n",
    "    - [Dense time reachability plots](#dense-reach-plots-CONST)\n",
    "    - [Check mode (dense time)](#check-dense-CONST)\n",
    "    - [Check mode (discrete time)](#check-discrete-CONST)"
   ]
  },
  {
   "cell_type": "markdown",
   "metadata": {},
   "source": [
    "## Introduction"
   ]
  },
  {
   "cell_type": "code",
   "execution_count": 1,
   "metadata": {},
   "outputs": [],
   "source": [
    "using SX, Reachability, MAT, Plots"
   ]
  },
  {
   "cell_type": "code",
   "execution_count": 3,
   "metadata": {},
   "outputs": [
    {
     "name": "stdout",
     "output_type": "stream",
     "text": [
      "\u001b[35m[warn | Reachability]: field note in location 1 is ignored\n",
      "\u001b[39m\u001b[35m[warn | Reachability]: field note in location 2 is ignored\n",
      "\u001b[39m\u001b[35m[warn | Reachability]: field label in transition 1 → 1 is ignored\n",
      "\u001b[39m\u001b[35m[warn | Reachability]: field label in transition 1 → 1 is ignored\n",
      "\u001b[39m\u001b[35m[warn | Reachability]: field label in transition 1 → 2 is ignored\n",
      "\u001b[39m\u001b[35m[warn | Reachability]: field label in transition 1 → 2 is ignored\n",
      "\u001b[39m\u001b[35m[warn | Reachability]: field label in transition 1 → 2 is ignored\n",
      "\u001b[39m\u001b[35m[warn | Reachability]: field label in transition 1 → 2 is ignored\n",
      "\u001b[39m"
     ]
    },
    {
     "ename": "LoadError",
     "evalue": "\u001b[91mArgumentError: Second argument must be of Symbol type\u001b[39m",
     "output_type": "error",
     "traceback": [
      "\u001b[91mArgumentError: Second argument must be of Symbol type\u001b[39m",
      "",
      "Stacktrace:",
      " [1] \u001b[1mdiff\u001b[22m\u001b[22m\u001b[1m(\u001b[22m\u001b[22m::SymEngine.Basic, ::SymEngine.BasicType{Val{:Complex}}\u001b[1m)\u001b[22m\u001b[22m at \u001b[1m/Users/forets/.julia/v0.6/SymEngine/src/calculus.jl:16\u001b[22m\u001b[22m",
      " [2] \u001b[1mdiff\u001b[22m\u001b[22m\u001b[1m(\u001b[22m\u001b[22m::SymEngine.Basic, ::SymEngine.Basic, ::Int64\u001b[1m)\u001b[22m\u001b[22m at \u001b[1m/Users/forets/.julia/v0.6/SymEngine/src/calculus.jl:22\u001b[22m\u001b[22m",
      " [3] \u001b[1mmacro expansion\u001b[22m\u001b[22m at \u001b[1m./broadcast.jl:230\u001b[22m\u001b[22m [inlined]",
      " [4] \u001b[1m_broadcast!\u001b[22m\u001b[22m\u001b[1m(\u001b[22m\u001b[22m::Base.LinAlg.#diff, ::Array{SymEngine.Basic,1}, ::Tuple{Tuple{},Tuple{Bool}}, ::Tuple{Tuple{},Tuple{Int64}}, ::Tuple{SymEngine.Basic,Array{SymEngine.Basic,1}}, ::Type{Val{2}}, ::CartesianRange{CartesianIndex{1}}, ::CartesianIndex{1}, ::Int64\u001b[1m)\u001b[22m\u001b[22m at \u001b[1m./broadcast.jl:217\u001b[22m\u001b[22m",
      " [5] \u001b[1mbroadcast_t\u001b[22m\u001b[22m\u001b[1m(\u001b[22m\u001b[22m::Function, ::Type{Any}, ::Tuple{Base.OneTo{Int64}}, ::CartesianRange{CartesianIndex{1}}, ::SymEngine.Basic, ::Array{SymEngine.Basic,1}\u001b[1m)\u001b[22m\u001b[22m at \u001b[1m./broadcast.jl:263\u001b[22m\u001b[22m",
      " [6] \u001b[1mbroadcast_c\u001b[22m\u001b[22m\u001b[1m(\u001b[22m\u001b[22m::Function, ::Type{Array}, ::SymEngine.Basic, ::Array{SymEngine.Basic,1}, ::Vararg{Array{SymEngine.Basic,1},N} where N\u001b[1m)\u001b[22m\u001b[22m at \u001b[1m./broadcast.jl:319\u001b[22m\u001b[22m",
      " [7] \u001b[1m#linearHS#25\u001b[22m\u001b[22m\u001b[1m(\u001b[22m\u001b[22m::Type{T} where T, ::Type{T} where T, ::Type{T} where T, ::Array{Any,1}, ::Function, ::Dict{String,Any}\u001b[1m)\u001b[22m\u001b[22m at \u001b[1m/Users/forets/.julia/v0.6/SX/src/symbolic.jl:108\u001b[22m\u001b[22m",
      " [8] \u001b[1m(::SX.#kw##linearHS)\u001b[22m\u001b[22m\u001b[1m(\u001b[22m\u001b[22m::Array{Any,1}, ::SX.#linearHS, ::Dict{String,Any}\u001b[1m)\u001b[22m\u001b[22m at \u001b[1m./<missing>:0\u001b[22m\u001b[22m",
      " [9] \u001b[1m#readsxmodel#1\u001b[22m\u001b[22m\u001b[1m(\u001b[22m\u001b[22m::Bool, ::Type{T} where T, ::Type{T} where T, ::Array{Any,1}, ::Function, ::String\u001b[1m)\u001b[22m\u001b[22m at \u001b[1m/Users/forets/.julia/v0.6/SX/src/io.jl:149\u001b[22m\u001b[22m",
      " [10] \u001b[1m(::SX.#kw##readsxmodel)\u001b[22m\u001b[22m\u001b[1m(\u001b[22m\u001b[22m::Array{Any,1}, ::SX.#readsxmodel, ::String\u001b[1m)\u001b[22m\u001b[22m at \u001b[1m./<missing>:0\u001b[22m\u001b[22m",
      " [11] \u001b[1minclude_string\u001b[22m\u001b[22m\u001b[1m(\u001b[22m\u001b[22m::String, ::String\u001b[1m)\u001b[22m\u001b[22m at \u001b[1m./loading.jl:522\u001b[22m\u001b[22m"
     ]
    }
   ],
   "source": [
    "file = \"SX_Mesh_automatically.xml\"\n",
    "H = readsxmodel(file, ST=ConstrainedLinearControlContinuousSystem);"
   ]
  },
  {
   "cell_type": "code",
   "execution_count": 10,
   "metadata": {},
   "outputs": [
    {
     "name": "stdout",
     "output_type": "stream",
     "text": [
      "\u001b[35m[warn | Reachability]: field note in location 1 is ignored\n",
      "\u001b[39m\u001b[35m[warn | Reachability]: field note in location 2 is ignored\n",
      "\u001b[39m\u001b[35m[warn | Reachability]: field label in transition 1 → 1 is ignored\n",
      "\u001b[39m\u001b[35m[warn | Reachability]: field label in transition 1 → 1 is ignored\n",
      "\u001b[39m\u001b[35m[warn | Reachability]: field label in transition 1 → 2 is ignored\n",
      "\u001b[39m\u001b[35m[warn | Reachability]: field label in transition 1 → 2 is ignored\n",
      "\u001b[39m\u001b[35m[warn | Reachability]: field label in transition 1 → 2 is ignored\n",
      "\u001b[39m\u001b[35m[warn | Reachability]: field label in transition 1 → 2 is ignored\n",
      "\u001b[39m"
     ]
    },
    {
     "ename": "LoadError",
     "evalue": "\u001b[91mDimensionMismatch(\"tried to assign 6-element array to 1×1 destination\")\u001b[39m",
     "output_type": "error",
     "traceback": [
      "\u001b[91mDimensionMismatch(\"tried to assign 6-element array to 1×1 destination\")\u001b[39m",
      "",
      "Stacktrace:",
      " [1] \u001b[1mthrow_setindex_mismatch\u001b[22m\u001b[22m\u001b[1m(\u001b[22m\u001b[22m::Array{Float64,1}, ::Tuple{Int64,Int64}\u001b[1m)\u001b[22m\u001b[22m at \u001b[1m./indices.jl:94\u001b[22m\u001b[22m",
      " [2] \u001b[1msetindex_shape_check\u001b[22m\u001b[22m\u001b[1m(\u001b[22m\u001b[22m::Array{Float64,1}, ::Int64, ::Int64\u001b[1m)\u001b[22m\u001b[22m at \u001b[1m./indices.jl:146\u001b[22m\u001b[22m",
      " [3] \u001b[1mmacro expansion\u001b[22m\u001b[22m at \u001b[1m./multidimensional.jl:554\u001b[22m\u001b[22m [inlined]",
      " [4] \u001b[1m_unsafe_setindex!\u001b[22m\u001b[22m\u001b[1m(\u001b[22m\u001b[22m::IndexLinear, ::Array{Float64,2}, ::Array{Float64,1}, ::Int64, ::Base.Slice{Base.OneTo{Int64}}\u001b[1m)\u001b[22m\u001b[22m at \u001b[1m./multidimensional.jl:549\u001b[22m\u001b[22m",
      " [5] \u001b[1mmacro expansion\u001b[22m\u001b[22m at \u001b[1m./multidimensional.jl:541\u001b[22m\u001b[22m [inlined]",
      " [6] \u001b[1m_setindex!\u001b[22m\u001b[22m at \u001b[1m./multidimensional.jl:537\u001b[22m\u001b[22m [inlined]",
      " [7] \u001b[1msetindex!\u001b[22m\u001b[22m\u001b[1m(\u001b[22m\u001b[22m::Array{Float64,2}, ::Array{Float64,1}, ::Int64, ::Colon\u001b[1m)\u001b[22m\u001b[22m at \u001b[1m./abstractarray.jl:968\u001b[22m\u001b[22m",
      " [8] \u001b[1m#linearHS#25\u001b[22m\u001b[22m\u001b[1m(\u001b[22m\u001b[22m::Type{T} where T, ::Type{T} where T, ::Type{T} where T, ::Array{Any,1}, ::Function, ::Dict{String,Any}\u001b[1m)\u001b[22m\u001b[22m at \u001b[1m/Users/forets/.julia/v0.6/SX/src/symbolic.jl:109\u001b[22m\u001b[22m",
      " [9] \u001b[1m(::SX.#kw##linearHS)\u001b[22m\u001b[22m\u001b[1m(\u001b[22m\u001b[22m::Array{Any,1}, ::SX.#linearHS, ::Dict{String,Any}\u001b[1m)\u001b[22m\u001b[22m at \u001b[1m./<missing>:0\u001b[22m\u001b[22m",
      " [10] \u001b[1m#readsxmodel#1\u001b[22m\u001b[22m\u001b[1m(\u001b[22m\u001b[22m::Bool, ::Type{T} where T, ::Type{T} where T, ::Array{Any,1}, ::Function, ::String\u001b[1m)\u001b[22m\u001b[22m at \u001b[1m/Users/forets/.julia/v0.6/SX/src/io.jl:149\u001b[22m\u001b[22m",
      " [11] \u001b[1m(::SX.#kw##readsxmodel)\u001b[22m\u001b[22m\u001b[1m(\u001b[22m\u001b[22m::Array{Any,1}, ::SX.#readsxmodel, ::String\u001b[1m)\u001b[22m\u001b[22m at \u001b[1m./<missing>:0\u001b[22m\u001b[22m",
      " [12] \u001b[1minclude_string\u001b[22m\u001b[22m\u001b[1m(\u001b[22m\u001b[22m::String, ::String\u001b[1m)\u001b[22m\u001b[22m at \u001b[1m./loading.jl:522\u001b[22m\u001b[22m"
     ]
    }
   ],
   "source": [
    "file = \"SX_Mesh_manual.xml\"\n",
    "H = readsxmodel(file, ST=ConstrainedLinearControlContinuousSystem);"
   ]
  },
  {
   "cell_type": "code",
   "execution_count": null,
   "metadata": {},
   "outputs": [],
   "source": []
  }
 ],
 "metadata": {
  "kernelspec": {
   "display_name": "Julia 0.6.1",
   "language": "julia",
   "name": "julia-0.6"
  },
  "language_info": {
   "file_extension": ".jl",
   "mimetype": "application/julia",
   "name": "julia",
   "version": "0.6.1"
  }
 },
 "nbformat": 4,
 "nbformat_minor": 2
}
