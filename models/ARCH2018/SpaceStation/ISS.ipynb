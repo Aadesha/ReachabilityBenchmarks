{
 "cells": [
  {
   "cell_type": "code",
   "execution_count": null,
   "metadata": {},
   "outputs": [],
   "source": [
    "using Reachability, MAT, Plots"
   ]
  },
  {
   "cell_type": "markdown",
   "metadata": {},
   "source": [
    "## Constant input"
   ]
  },
  {
   "cell_type": "code",
   "execution_count": null,
   "metadata": {},
   "outputs": [],
   "source": []
  },
  {
   "cell_type": "code",
   "execution_count": null,
   "metadata": {},
   "outputs": [],
   "source": []
  },
  {
   "cell_type": "code",
   "execution_count": null,
   "metadata": {},
   "outputs": [],
   "source": []
  },
  {
   "cell_type": "markdown",
   "metadata": {},
   "source": [
    "## Nondeterministic input"
   ]
  },
  {
   "cell_type": "code",
   "execution_count": null,
   "metadata": {},
   "outputs": [],
   "source": []
  },
  {
   "cell_type": "code",
   "execution_count": null,
   "metadata": {},
   "outputs": [],
   "source": []
  },
  {
   "cell_type": "code",
   "execution_count": null,
   "metadata": {},
   "outputs": [],
   "source": []
  },
  {
   "cell_type": "code",
   "execution_count": null,
   "metadata": {},
   "outputs": [],
   "source": [
    "using Reachability, MAT, Plots\n",
    "\n",
    "compute(o::Pair{Symbol,<:Any}...) = compute(Options(Dict{Symbol,Any}(o)))\n",
    "\n",
    "function compute(input_options::Options)\n",
    "    # =====================\n",
    "    # Problem specification\n",
    "    # =====================\n",
    "    file = matopen(@relpath \"iss.mat\")\n",
    "    A = sparse(read(file, \"A\"))\n",
    "\n",
    "    # initial set\n",
    "    X0 = BallInf(zeros(size(A, 1)), .0001) # -0.0001 <= xi <= 0.0001 for all i\n",
    "\n",
    "    # input set\n",
    "    #Uraw = BallInf([0.05], .05) * BallInf([0.9], .1) * BallInf([0.95], .05)\n",
    "    #Uraw = Hyperrectangle([0.05, 0.9, 0.95], [0.05, 0.1, 0.05])\n",
    "    Uraw = CartesianProductArray([BallInf([0.05], .05), BallInf([0.9], .1), BallInf([0.95], .05)])\n",
    "    B = read(file, \"B\")\n",
    "    # input U is constant\n",
    "    U = B * Uraw\n",
    "\n",
    "    # instantiate continuous LTI system\n",
    "    S = ContinuousSystem(A, X0, U)\n",
    "\n",
    "    # property: y < 7e-4\n",
    "    p = LinearConstraintProperty(read(matopen(@relpath \"out.mat\"), \"M\")[1,:], 7e-4)\n",
    "\n",
    "    # ===============\n",
    "    # Problem solving\n",
    "    # ===============\n",
    "    if input_options[:mode] == \"reach\"\n",
    "        problem_options = Options(:vars => [182],\n",
    "                                  :partition => [(2*i-1:2*i) for i in 1:135], # 2D blocks\n",
    "                                  :plot_vars => [0, 182],\n",
    "                                  :assume_sparse => true)\n",
    "    elseif input_options[:mode] == \"check\"\n",
    "        problem_options = Options(:vars => 136:270, # variables needed for property\n",
    "                                  :partition => [(2*i-1:2*i) for i in 1:135], # 2D blocks\n",
    "                                  :property => p,\n",
    "                                  :assume_sparse => true)\n",
    "    end\n",
    "\n",
    "    result = solve(S, merge(problem_options, input_options))\n",
    "\n",
    "    # ========\n",
    "    # Plotting\n",
    "    # ========\n",
    "    if input_options[:mode] == \"reach\"\n",
    "        println(\"Plotting...\")\n",
    "        tic()\n",
    "        #project_output = options[:projection_matrix] != nothing\n",
    "        #:plot_labels => add_plot_labels(options[:plot_vars], project_output)\n",
    "        plot(result)\n",
    "        @eval(savefig(@relpath \"iss.png\"))\n",
    "        toc()\n",
    "    end\n",
    "end # function\n",
    "\n",
    "# ===================================\n",
    "# Reach tube computation, dense time\n",
    "# ===================================\n",
    "\n",
    "info(\"warm-up run\"; prefix=\" \")\n",
    "compute(:δ => 1e-3, :N => 3, :mode=>\"reach\", :verbosity => \"warn\");\n",
    "\n",
    "info(\"dense time, 2D blocks Hyperrectangle\"; prefix=\"BENCHMARK SETTINGS: \")\n",
    "compute(:δ => 1e-3, :T => 20.0, :mode=>\"reach\", :verbosity => \"info\");\n",
    "\n",
    "info(\"dense time, 2D blocks HPolygon, cf. Table 1 HSCC\"; prefix=\"BENCHMARK SETTINGS: \")\n",
    "compute(:δ => 1e-3, :T => 20.0, :mode=>\"reach\", :verbosity => \"info\",\n",
    "        :set_type=>HPolygon, :lazy_sih=>false, :ε=>Inf);\n",
    "\n",
    "info(\"dense time, 1D blocks Interval\"; prefix=\"BENCHMARK SETTINGS: \")\n",
    "compute(:δ => 1e-3, :T => 20.0, :mode=>\"reach\", :verbosity => \"info\",\n",
    "        :set_type=>Interval, :partition => [[i] for i in 1:270]);\n"
   ]
  }
 ],
 "metadata": {
  "kernelspec": {
   "display_name": "Julia 0.6.1",
   "language": "julia",
   "name": "julia-0.6"
  },
  "language_info": {
   "file_extension": ".jl",
   "mimetype": "application/julia",
   "name": "julia",
   "version": "0.6.1"
  }
 },
 "nbformat": 4,
 "nbformat_minor": 2
}
