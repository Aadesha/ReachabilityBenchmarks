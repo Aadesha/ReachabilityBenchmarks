{
 "cells": [
  {
   "cell_type": "markdown",
   "metadata": {},
   "source": [
    "**Contents**\n",
    "\n",
    "- [Introduction](#Introduction)\n",
    "- [Time-varying input](#Time-varying-input)\n",
    "- [Constant input](#Constant-input)"
   ]
  },
  {
   "cell_type": "markdown",
   "metadata": {},
   "source": [
    "## Introduction"
   ]
  },
  {
   "cell_type": "markdown",
   "metadata": {},
   "source": [
    "This system is a continuous linear time-invariant system $x' = Ax + Bu$ proposed as a benchmark in ARCH 2016 as \"International Space Station (ISS)\". \n",
    "\n",
    "The ISS state-space model is a structural model of component 1R (Russian service module) of the International Space Station. It has 270 state variables with three inputs."
   ]
  },
  {
   "cell_type": "code",
   "execution_count": null,
   "metadata": {},
   "outputs": [],
   "source": [
    "using SX, Reachability, MAT, Plots"
   ]
  },
  {
   "cell_type": "markdown",
   "metadata": {},
   "source": [
    "## Time-varying input <a id='Time-varying-input'> </a>"
   ]
  },
  {
   "cell_type": "markdown",
   "metadata": {},
   "source": [
    "Build the scenario as an initial value problem with non-deterministic inputs:"
   ]
  },
  {
   "cell_type": "code",
   "execution_count": null,
   "metadata": {},
   "outputs": [],
   "source": [
    "file = matopen(\"iss.mat\")\n",
    "A, B = sparse(read(file, \"A\")), read(file, \"B\");\n",
    "C = reshape(full(read(file, \"C\")[3, :]), (1, 270));\n",
    "Cvec = C[1, :]\n",
    "time_horizon = 20.0;\n",
    "X0 = BallInf(zeros(size(A, 1)), 0.0001) # -0.0001 <= xi <= 0.0001 for all i\n",
    "U = Hyperrectangle(low=[0.0, 0.8, 0.9], high=[0.1, 1., 1.]) # input set\n",
    "\n",
    "S = ConstrainedLinearControlContinuousSystem(A, eye(A), nothing, ConstantInput(B * U));\n",
    "problem_TV = InitialValueProblem(S, X0);"
   ]
  },
  {
   "cell_type": "markdown",
   "metadata": {},
   "source": [
    "#### Dense time reachability plot:"
   ]
  },
  {
   "cell_type": "code",
   "execution_count": null,
   "metadata": {},
   "outputs": [],
   "source": [
    "sol = solve(problem_TV, :T=>1.0, :δ=>1e-3, :vars=> 1:270, :plot_vars=>[0, 270], :projection_matrix=>C, :assume_sparse => true);\n",
    "plot(sol, xlabel=\"t\", ylabel=\"y3\")"
   ]
  },
  {
   "cell_type": "markdown",
   "metadata": {},
   "source": [
    "#### Discrete time reachability plot:"
   ]
  },
  {
   "cell_type": "code",
   "execution_count": null,
   "metadata": {},
   "outputs": [],
   "source": [
    "sol = solve(problem_TV, :approx_model=>\"nobloating\", :T=>1.0, :δ=>1e-3, :vars=> 1:270, :plot_vars=>[0, 270], :projection_matrix=>C, :assume_sparse => true);\n",
    "plot(sol, xlabel=\"t\", ylabel=\"y3\")"
   ]
  },
  {
   "cell_type": "markdown",
   "metadata": {},
   "source": [
    "#### Check mode"
   ]
  },
  {
   "cell_type": "markdown",
   "metadata": {},
   "source": [
    "For the time-varying case, the specification $y_3 \\in [-0.0005, 0.0005]$ should be violated around time ~13.7, whereas the specification $y_3 \\in [-0.0007, 0.0007]$ is safe."
   ]
  },
  {
   "cell_type": "code",
   "execution_count": null,
   "metadata": {},
   "outputs": [],
   "source": [
    "y3SPEC1 = LinearConstraintProperty([Clause(LinearConstraint(Cvec, 0.0005)), \n",
    "                                    Clause(LinearConstraint(-Cvec, 0.0005))])\n",
    "y3SPEC2 = LinearConstraintProperty([Clause(LinearConstraint(Cvec, 0.0007)), \n",
    "                                    Clause(LinearConstraint(-Cvec, 0.0007))]);"
   ]
  },
  {
   "cell_type": "code",
   "execution_count": null,
   "metadata": {},
   "outputs": [],
   "source": [
    "sol = solve(problem_TV, :T=>time_horizon, :δ=>1e-3, :vars=> 136:270, :mode=>\"check\", :property=>y3SPEC1,\n",
    "                        :projection_matrix=>C, :assume_sparse => true);\n",
    "sol.satisfied, sol.violation"
   ]
  },
  {
   "cell_type": "code",
   "execution_count": null,
   "metadata": {},
   "outputs": [],
   "source": [
    "sol = solve(problem_TV, :T=>time_horizon, :δ=>1e-3, :vars=> 136:270, :mode=>\"check\", :property=>y3SPEC2,\n",
    "                        :projection_matrix=>C, :assume_sparse => true);\n",
    "sol.satisfied, sol.violation"
   ]
  },
  {
   "cell_type": "markdown",
   "metadata": {},
   "source": [
    "## Constant input <a id='Constant-input'> </a>"
   ]
  },
  {
   "cell_type": "code",
   "execution_count": null,
   "metadata": {},
   "outputs": [],
   "source": [
    "import Reachability.add_dimension\n",
    "Aext = add_dimension(add_dimension(add_dimension(A)))\n",
    "Aext[1:270, 271:273] = B\n",
    "S = LinearContinuousSystem(Aext);\n",
    "\n",
    "X0 = X0 * U\n",
    "problem_CONST = InitialValueProblem(S, X0);\n",
    "C = hcat(C, reshape(fill(0.0, 3), (1, 3)));\n",
    "size(S.A), dim(X0), size(C)"
   ]
  },
  {
   "cell_type": "markdown",
   "metadata": {},
   "source": [
    "#### Check mode"
   ]
  },
  {
   "cell_type": "markdown",
   "metadata": {},
   "source": [
    "In the constant-input case, the specification $y_3 \\in [-0.00017, 0.00017]$ is violated around time ~0.5, whereas the specification $y_3 \\in [-0.0005, 0.0005]$ is safe."
   ]
  },
  {
   "cell_type": "code",
   "execution_count": null,
   "metadata": {},
   "outputs": [],
   "source": [
    "y3SPEC3 = LinearConstraintProperty([Clause(LinearConstraint(Cvec, 0.00017)), \n",
    "                                    Clause(LinearConstraint(-Cvec, 0.00017))])\n",
    "y3SPEC4 = LinearConstraintProperty([Clause(LinearConstraint(Cvec, 0.0005)), \n",
    "                                    Clause(LinearConstraint(-Cvec, 0.0005))]);"
   ]
  },
  {
   "cell_type": "code",
   "execution_count": null,
   "metadata": {},
   "outputs": [],
   "source": [
    "sol = solve(problem_CONST, :T=>time_horizon, :δ=>1e-3, :vars=> 136:270, :mode=>\"check\", :property=>y3SPEC3,\n",
    "                           :projection_matrix=>C, :assume_sparse => true, :assume_homogeneous=>true);\n",
    "sol.satisfied, sol.violation"
   ]
  },
  {
   "cell_type": "code",
   "execution_count": null,
   "metadata": {},
   "outputs": [],
   "source": [
    "sol = solve(problem_CONST, :T=>time_horizon, :δ=>1e-3, :vars=> 136:270, :mode=>\"check\", :property=>y3SPEC4,\n",
    "                           :projection_matrix=>C, :assume_sparse => true);\n",
    "sol.satisfied, sol.violation"
   ]
  },
  {
   "cell_type": "code",
   "execution_count": null,
   "metadata": {},
   "outputs": [],
   "source": []
  }
 ],
 "metadata": {
  "kernelspec": {
   "display_name": "Julia 0.6.1",
   "language": "julia",
   "name": "julia-0.6"
  },
  "language_info": {
   "file_extension": ".jl",
   "mimetype": "application/julia",
   "name": "julia",
   "version": "0.6.1"
  }
 },
 "nbformat": 4,
 "nbformat_minor": 2
}
