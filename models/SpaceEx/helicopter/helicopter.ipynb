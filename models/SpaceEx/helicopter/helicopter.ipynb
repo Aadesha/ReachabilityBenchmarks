{
 "cells": [
  {
   "cell_type": "markdown",
   "metadata": {},
   "source": [
    "### Introduction\n",
    "\n",
    "In this notebook we investigate accuracy and performance of the decomposition\n",
    "method, using a benchmark which appeared in [1].\n",
    "\n",
    "This is an 8-dimensional helicopter model with a 20-dimensional controller,\n",
    "taken from [2].\n",
    "\n",
    "The configuration files for this model can be obtained from the HSCC2017 repeatibility\n",
    "evaluation. The source code of HyLAA is available on Github.\n",
    "\n",
    "---\n",
    "\n",
    "*References*:\n",
    "\n",
    "[1] [HyLAA: A Tool for Computing Simulation-Equivalent Reachability for Linear\n",
    "Systems. S. Bak, P. S. Duggirala. HSCC 2017](http://stanleybak.com/papers/bak2017hscc.pdf)\n",
    "\n",
    "[2] Multivariable Feedback Control: Analysis and Design. John Wiley & Sons, 2005.\n",
    "S. Skogestad and I. Postlethwaite. "
   ]
  },
  {
   "cell_type": "markdown",
   "metadata": {},
   "source": [
    "### Accuracy evaluation\n",
    "\n",
    "The model coeffiecients and the set of initial conditions have been defined in the file `helicopter.jl`. In particular:\n",
    "\n",
    "- it has no inputs,\n",
    "- it is 28-dimensional,\n",
    "- the initial state for this system is the product of intervals; thus, we can define it as `Hyperrectangle` type provided by the `LazySets` module.\n",
    "\n",
    "Now, let's load the model file and our package:"
   ]
  },
  {
   "cell_type": "code",
   "execution_count": null,
   "metadata": {
    "collapsed": true
   },
   "outputs": [],
   "source": [
    "include(\"helicopter.jl\")"
   ]
  },
  {
   "cell_type": "markdown",
   "metadata": {},
   "source": [
    "First, we run the experiment from Fig. 3 of [1]. This is a plot of the variable $x_8$ over time. Since we use blocks of size 2, the corresponding block number is 4 (use the `@block_id` macro as a shortcut)."
   ]
  },
  {
   "cell_type": "markdown",
   "metadata": {},
   "source": [
    "The step size is $\\delta = 0.1$, and the time horizon is 30sec. Hence, the number of discrete steps that we need is $N=300$. This benchmark problem can be run with the `compute` function, where we pass the plot variables ($0$ being the time variable).\n",
    "\n",
    "By default, we compute in dense time."
   ]
  },
  {
   "cell_type": "code",
   "execution_count": null,
   "metadata": {},
   "outputs": [],
   "source": [
    "compute(300, 0.1, :block=>4, :plot_vars=>[0, 8], :plot_backend=>\"pyplot_savefig\")"
   ]
  },
  {
   "cell_type": "markdown",
   "metadata": {},
   "source": [
    "![helicopter1](helicopter1.png)"
   ]
  },
  {
   "cell_type": "markdown",
   "metadata": {},
   "source": [
    "The reachability computation of these 300 time steps takes around 0.08 seconds (there is ~2% variation between runs). The speed of the other tools is not reported in [1], however, to judge for Fig. 2(a), is also around 1 second. Later we see how it behaves with an extended model."
   ]
  },
  {
   "cell_type": "markdown",
   "metadata": {},
   "source": [
    "The shape of the plot conforms to those in [1], Fig. 3, and in terms of accuracy, it is very similar to that of HyLAA, hence better than both SpaceEx results reported there."
   ]
  },
  {
   "cell_type": "markdown",
   "metadata": {},
   "source": [
    "![heli_bench_x8](heli_bench_x8.png)"
   ]
  },
  {
   "cell_type": "markdown",
   "metadata": {},
   "source": [
    "Above we have used a \"continous\" reachability, which is the same as in SpaceEx, and that guarantees that all trajectories of the continuous system belong to the union of overapproximating sets. \n",
    "\n",
    "However, HyLAA computes the covering of the discretized system, i.e. no bloating at all of the initial states is used.\n",
    "\n",
    "In our tool, the flag `ct_bloating_factor`, set to `true` by default (continuous system), can be used to define either one or the other case. "
   ]
  },
  {
   "cell_type": "markdown",
   "metadata": {},
   "source": [
    "First, let's consider the effect of the discretization for the first 10 reachable sets:"
   ]
  },
  {
   "cell_type": "code",
   "execution_count": null,
   "metadata": {},
   "outputs": [],
   "source": [
    "compute(10, 0.1, :block=>4, :plot_vars => [0, 8], :ct_bloating_factor=>true, :plot_backend=>\"pyplot_savefig\",\n",
    "        :plot_name=>\"heli2.png\")"
   ]
  },
  {
   "cell_type": "markdown",
   "metadata": {},
   "source": [
    "![heli2](heli2.png)"
   ]
  },
  {
   "cell_type": "markdown",
   "metadata": {},
   "source": [
    "Now let's do the \"discrete\" case (corresponding to the plot in HyLAA):"
   ]
  },
  {
   "cell_type": "code",
   "execution_count": null,
   "metadata": {},
   "outputs": [],
   "source": [
    "compute(10, 0.1, :block=>4, :plot_vars=>[0, 8], :ct_bloating_factor=>false, :plot_backend=>\"pyplot_savefig\",\n",
    "        :plot_name=>\"heli3.png\")"
   ]
  },
  {
   "cell_type": "markdown",
   "metadata": {},
   "source": [
    "![heli3](heli3.png)"
   ]
  },
  {
   "cell_type": "markdown",
   "metadata": {},
   "source": [
    "The initial set is of course the same in both cases, by definition. But the second set is larger with bloating, as expected. It is however a small amount (with bloating is 0.22, and without bloating it is 0.15, approximatively). Observe also that the width of the last computed set is printed in the results: "
   ]
  },
  {
   "cell_type": "code",
   "execution_count": null,
   "metadata": {
    "collapsed": true
   },
   "outputs": [],
   "source": [
    "width_bloating = 4.490740e-01 - (-4.490740e-01)\n",
    "width_no_bloating = 3.683577e-01 - (-3.683577e-01)\n",
    "width_bloating, width_no_bloating"
   ]
  },
  {
   "cell_type": "markdown",
   "metadata": {},
   "source": [
    "## Safety property"
   ]
  },
  {
   "cell_type": "code",
   "execution_count": null,
   "metadata": {
    "collapsed": true
   },
   "outputs": [],
   "source": [
    "safety_property = Property([1., 0.], 0.12) # x1 < 0.12"
   ]
  },
  {
   "cell_type": "code",
   "execution_count": null,
   "metadata": {},
   "outputs": [],
   "source": [
    "600 * 0.05"
   ]
  },
  {
   "cell_type": "code",
   "execution_count": null,
   "metadata": {},
   "outputs": [],
   "source": [
    "# in dense time\n",
    "compute(400, 0.1, :block=>1, :plot_vars=>[0, 1], \n",
    "        :plot_backend=>\"pyplot_savefig\", :plot_name=>\"helicheck.png\")"
   ]
  },
  {
   "cell_type": "markdown",
   "metadata": {},
   "source": [
    "![helicheck](helicheck.png)"
   ]
  },
  {
   "cell_type": "code",
   "execution_count": null,
   "metadata": {
    "collapsed": true
   },
   "outputs": [],
   "source": []
  },
  {
   "cell_type": "code",
   "execution_count": null,
   "metadata": {
    "collapsed": true
   },
   "outputs": [],
   "source": [
    "compute(300, 0.1, :mode=>\"check\", :property => safety_property)\n",
    "#:property => Property([1., 0.], 0.12), # x1 < 0.12\n",
    "#:blocks => 1:14,\n",
    "#:mode => \"reach\",\n",
    "#:algorithm => \"explicit_block\","
   ]
  },
  {
   "cell_type": "code",
   "execution_count": null,
   "metadata": {
    "collapsed": true
   },
   "outputs": [],
   "source": []
  },
  {
   "cell_type": "markdown",
   "metadata": {},
   "source": [
    "## Performance \n",
    "\n",
    "In order to analyze scalability, in [1] the helicopter coefficients matrix is\n",
    "replicated `ncopies` times, withing the same model. Inspecting the SpaceEx configuration\n",
    "files, one sees that the enlarged model consists in non-coupled copies of the helicopter,\n",
    "and the initial states of each copy are all of them equal as the one used above.\n",
    "\n",
    "It is easy to create copies of the Helicopter model in Julia. See the Appendix to this notebook for a step-by-step explanation. "
   ]
  },
  {
   "cell_type": "markdown",
   "metadata": {},
   "source": [
    "Since the original model is 28-dimensional, the number of variables of a\n",
    "q-th order model is a multiple of 28. To obtain some scalability plots,\n",
    "let's choose powers of two."
   ]
  },
  {
   "cell_type": "markdown",
   "metadata": {},
   "source": [
    "xyzxyz"
   ]
  },
  {
   "cell_type": "code",
   "execution_count": null,
   "metadata": {
    "collapsed": true
   },
   "outputs": [],
   "source": [
    "compute(300, 0.1, :case => \"spaceexIC_no_input_ncopies\", :case_ncopies => 20)"
   ]
  },
  {
   "cell_type": "markdown",
   "metadata": {},
   "source": [
    "The performance results are summarized in the table below:"
   ]
  },
  {
   "cell_type": "markdown",
   "metadata": {},
   "source": [
    "|order|vars|\n",
    "|----|----|\n",
    "|1|28|\n",
    "|2|56|\n",
    "|4|112|\n",
    "|8|224|\n",
    "|16|448|\n",
    "|32|896|\n",
    "|64|1792|"
   ]
  },
  {
   "cell_type": "markdown",
   "metadata": {},
   "source": [
    "---\n",
    "\n",
    "*This is the end of this notebook investigating the reachability problem of the helicopter model.\n",
    "This notebook was prepared by [Marcelo Forets](http://marcelo-forets.fr).\n",
    "\n",
    "*For corrections, remarks, etc., please send them to `mforets@gmail.com`. Enjoy! *"
   ]
  },
  {
   "cell_type": "markdown",
   "metadata": {},
   "source": [
    "### Appendix: making the replicated model"
   ]
  },
  {
   "cell_type": "markdown",
   "metadata": {},
   "source": [
    "The function `blkdiag` produces a block-diagonal matrix built from the matrices that receives\n",
    "as argument. It only works with sparse matrices, and the arguments are one or more\n",
    "matrices, in comma-separated fashion. Finally, recall that the splat\n",
    "operator, `...`, is handy to transform a list into a list of arguments.\n",
    "\n",
    "Let's see this in an example. Suppose that we want to make `ncopies = 3` copies\n",
    "of a matrix A. We can do itas follows: "
   ]
  },
  {
   "cell_type": "code",
   "execution_count": null,
   "metadata": {
    "collapsed": true
   },
   "outputs": [],
   "source": [
    "A = randn(2, 2)"
   ]
  },
  {
   "cell_type": "code",
   "execution_count": null,
   "metadata": {
    "collapsed": true
   },
   "outputs": [],
   "source": [
    "A = blkdiag([sparse(A) for i in 1:3]...); full(A)"
   ]
  },
  {
   "cell_type": "markdown",
   "metadata": {},
   "source": [
    "The initial states were given as a `Hyperrectangle`. A simple way of defining\n",
    "the enlarged initial set, `X0`, is to use a cartesian product. We can do it\n",
    "using list comprehension as follows:"
   ]
  },
  {
   "cell_type": "code",
   "execution_count": null,
   "metadata": {
    "collapsed": true
   },
   "outputs": [],
   "source": [
    "n = 28\n",
    "X0_single = Hyperrectangle(zeros(n), [fill(0.1, 8); zeros(20)])"
   ]
  },
  {
   "cell_type": "code",
   "execution_count": null,
   "metadata": {
    "collapsed": true
   },
   "outputs": [],
   "source": [
    "ncopies = 2\n",
    "X0_replicated = CartesianProductArray([X0_single for i in 1:ncopies])"
   ]
  },
  {
   "cell_type": "code",
   "execution_count": null,
   "metadata": {
    "collapsed": true
   },
   "outputs": [],
   "source": []
  }
 ],
 "metadata": {
  "kernelspec": {
   "display_name": "Julia 0.6.0",
   "language": "julia",
   "name": "julia-0.6"
  },
  "language_info": {
   "file_extension": ".jl",
   "mimetype": "application/julia",
   "name": "julia",
   "version": "0.6.0"
  }
 },
 "nbformat": 4,
 "nbformat_minor": 2
}
